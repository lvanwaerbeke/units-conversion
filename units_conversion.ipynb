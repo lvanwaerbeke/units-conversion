{
 "cells": [
  {
   "cell_type": "markdown",
   "id": "30b851f5-ab99-4017-9487-b63bce4e2bd0",
   "metadata": {},
   "source": [
    "## Units conversion"
   ]
  },
  {
   "cell_type": "code",
   "execution_count": 2,
   "id": "562851ab-57a0-4c7e-9d85-ab07223e4fa4",
   "metadata": {},
   "outputs": [
    {
     "name": "stdout",
     "output_type": "stream",
     "text": [
      "Populating the interactive namespace from numpy and matplotlib\n"
     ]
    }
   ],
   "source": [
    "from astropy.cosmology import FlatLambdaCDM\n",
    "from astropy.modeling.models import BlackBody\n",
    "from astropy import constants as cst\n",
    "from astropy import units as u\n",
    "from scipy.integrate import quad\n",
    "import numpy as np\n",
    "import matplotlib.pyplot as plt\n",
    "%pylab inline"
   ]
  },
  {
   "cell_type": "markdown",
   "id": "ca303407-71ee-41ae-b236-19ecf490e096",
   "metadata": {},
   "source": [
    "### Natural $\\longleftrightarrow$ C.G.S. physical units conversion factors\n",
    "\n",
    "| Quantity | C.G.S | Natural ([erg]) |\n",
    "| --- | --- | ------ |\n",
    "| Length $\\ell$ | [cm] | [erg$^{-1}$]=${[cm]\\over \\hbar c}$ |\n",
    "| Time t | [s] | [erg$^{-1}$]=${[s]\\over \\hbar}$ |\n",
    "| Mass m | [g] | [erg]=[g]c$^2$ |\n",
    "| Velocity $\\vec v$ | [cm$~$s$^{-1}$] | [1]=[cm$~$s$^{-1}$]$1\\over c$ |\n",
    "| Momentum $\\vec p$ | [g$~$cm$~$s$^{-1}$] | [erg]=[g$~$cm$~$s$^{-1}$]c |\n",
    "| Cross-section $\\sigma$ | [cm$^2$] | [erg$^{-2}$]=${[cm]\\over (\\hbar c)^2}$ |\n",
    "| Decay rate $\\Gamma$| [s$^{-1}$] | [erg]=[s$^{-1}$]$\\hbar$ |\n",
    "| Frequency $\\nu$| [Hz] | [erg]=[Hz]$\\hbar$ |\n",
    "| Temperature T| [K] | [erg]=[K]$k_B$ |\n",
    "\n",
    "$1~{\\rm eV} = 1.6021766\\times 10^{-12}~{\\rm erg}$\n",
    "\n",
    "$1~{\\rm GeV} = e~{\\rm erg} = 0.0016021766~{\\rm erg}$\n",
    "\n",
    "$\\hbar = 1.0545718×10^{−27}~{\\rm erg~s} = 6.5821196×10^{−25}~{\\rm GeV~s}$\n",
    "\n",
    "$\\hbar c = 3.1615268×10^{−17}~{\\rm erg~cm} = 1.9732698×10^{−14}~{\\rm GeV~cm}$\n",
    "\n",
    "Some conversion factors:\n",
    "\n",
    "$\\ell_{\\rm CGS} = \\ell_{\\rm Nat,erg^{-1}} (\\hbar c)_{\\rm CGS}=\\ell_{\\rm Nat,GeV^{-1}} {(\\hbar c)_{\\rm CGS}\\over 0.0016021766} ~ \\implies 1~{\\rm GeV^{-1}}=1.9732698×10^{−14}~{\\rm cm}$\n",
    "\n",
    "$t_{\\rm CGS} = t_{\\rm Nat,erg^{-1}} \\hbar_{\\rm CGS}=t_{\\rm Nat,GeV^{-1}} {\\hbar_{\\rm CGS}\\over 0.0016021766} ~ \\implies 1~{\\rm GeV^{-1}}=6.5821196×10^{−25}~{\\rm s}$\n",
    "\n"
   ]
  },
  {
   "cell_type": "code",
   "execution_count": 3,
   "id": "romance-ceiling",
   "metadata": {},
   "outputs": [
    {
     "data": {
      "text/latex": [
       "$0.00016372933 \\; \\mathrm{eV}$"
      ],
      "text/plain": [
       "<Quantity 0.00016373 eV>"
      ]
     },
     "execution_count": 3,
     "metadata": {},
     "output_type": "execute_result"
    }
   ],
   "source": [
    "eV_to_erg = 1e7*cst.e.si.value*u.erg/u.eV\n",
    "GeV_to_erg = eV_to_erg.to(u.erg/u.GeV)\n",
    "erg_to_eV = 1/eV_to_erg\n",
    "erg_to_MeV = erg_to_eV.to(u.MeV/u.erg)\n",
    "erg_to_GeV = erg_to_eV.to(u.GeV/u.erg)\n",
    "g_to_eV = cst.c.cgs**2*erg_to_eV\n",
    "K_to_eV = cst.k_B.cgs*erg_to_eV\n",
    "eV_to_K = 1/K_to_eV\n",
    "Hz_to_eV = cst.hbar.cgs*erg_to_eV\n",
    "cm_to_GeVinv = 1e7*cst.e.si.value*1e9/(cst.hbar.cgs.value*cst.c.cgs.value)/u.GeV/u.cm\n",
    "GeVinv_to_cm = 1/cm_to_GeVinv\n",
    "1/u.GeV*GeVinv_to_cm  #  1 GeV^(-1) in cm\n",
    "g_to_GeV = cst.c.cgs.value**2/(1e7*cst.e.si.value*1e9)*u.GeV/u.g\n",
    "GeV_to_g = 1/g_to_GeV\n",
    "1.9*u.K*K_to_eV"
   ]
  },
  {
   "cell_type": "code",
   "execution_count": 4,
   "id": "b3e4fdd3-afd7-44ec-9ab8-75184525d82e",
   "metadata": {},
   "outputs": [
    {
     "data": {
      "text/latex": [
       "$0.00051099895 \\; \\mathrm{GeV}$"
      ],
      "text/plain": [
       "<Quantity 0.000511 GeV>"
      ]
     },
     "execution_count": 4,
     "metadata": {},
     "output_type": "execute_result"
    }
   ],
   "source": [
    "m_e = cst.m_e.cgs*g_to_eV\n",
    "m_p = cst.m_p.cgs*g_to_eV\n",
    "Tcmb0 = 2.725*u.K\n",
    "m_e.to(u.GeV)"
   ]
  },
  {
   "cell_type": "code",
   "execution_count": 5,
   "id": "8a8802b0-fd1c-479a-8f3b-c26347173017",
   "metadata": {},
   "outputs": [],
   "source": [
    "cosmo = FlatLambdaCDM(H0=70, Om0=0.3, Tcmb0=2.725)"
   ]
  },
  {
   "cell_type": "code",
   "execution_count": 6,
   "id": "9773d8bf-e25b-4580-8504-3da10f2f9a4e",
   "metadata": {},
   "outputs": [
    {
     "data": {
      "text/latex": [
       "$3.9669898 \\times 10^{-47} \\; \\mathrm{GeV^{4}}$"
      ],
      "text/plain": [
       "<Quantity 3.9669898e-47 GeV4>"
      ]
     },
     "execution_count": 6,
     "metadata": {},
     "output_type": "execute_result"
    }
   ],
   "source": [
    "rho_crit0 = cosmo.critical_density(0)\n",
    "rho_crit0*g_to_GeV/cm_to_GeVinv**3"
   ]
  },
  {
   "cell_type": "code",
   "execution_count": null,
   "id": "61c9b324-42c6-4f46-a6ff-e477ca99f4f1",
   "metadata": {},
   "outputs": [],
   "source": []
  }
 ],
 "metadata": {
  "kernelspec": {
   "display_name": "cosmokernel",
   "language": "python",
   "name": "cosmokernel"
  },
  "language_info": {
   "codemirror_mode": {
    "name": "ipython",
    "version": 3
   },
   "file_extension": ".py",
   "mimetype": "text/x-python",
   "name": "python",
   "nbconvert_exporter": "python",
   "pygments_lexer": "ipython3",
   "version": "3.9.6"
  }
 },
 "nbformat": 4,
 "nbformat_minor": 5
}
